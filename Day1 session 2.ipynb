{
  "nbformat": 4,
  "nbformat_minor": 0,
  "metadata": {
    "colab": {
      "name": "Untitled3.ipynb",
      "provenance": [],
      "authorship_tag": "ABX9TyNmPCXFjGOB/744EhNrJWvc",
      "include_colab_link": true
    },
    "kernelspec": {
      "name": "python3",
      "display_name": "Python 3"
    }
  },
  "cells": [
    {
      "cell_type": "markdown",
      "metadata": {
        "id": "view-in-github",
        "colab_type": "text"
      },
      "source": [
        "<a href=\"https://colab.research.google.com/github/Nayana-G-Naik/Naik-Nayana-G-4AL17CS053/blob/master/Day1%20session%202.ipynb\" target=\"_parent\"><img src=\"https://colab.research.google.com/assets/colab-badge.svg\" alt=\"Open In Colab\"/></a>"
      ]
    },
    {
      "cell_type": "markdown",
      "metadata": {
        "id": "4y-1CyN3_F0d",
        "colab_type": "text"
      },
      "source": [
        " Python Program to find the factorial of a number using loop."
      ]
    },
    {
      "cell_type": "code",
      "metadata": {
        "id": "NgJ1tW3I_LEY",
        "colab_type": "code",
        "colab": {
          "base_uri": "https://localhost:8080/",
          "height": 68
        },
        "outputId": "9555f4f2-7efa-4ba6-c23f-db89389edd83"
      },
      "source": [
        " \n",
        "n=int(input(\"Enter number:\"))\n",
        "fact=1\n",
        " \n",
        "while(n>0):\n",
        "    fact=fact*n\n",
        "    n=n-1\n",
        "print(\"Factorial of the number is: \")\n",
        "print(fact)"
      ],
      "execution_count": 1,
      "outputs": [
        {
          "output_type": "stream",
          "text": [
            "Enter number:4\n",
            "Factorial of the number is: \n",
            "24\n"
          ],
          "name": "stdout"
        }
      ]
    },
    {
      "cell_type": "markdown",
      "metadata": {
        "id": "kAUUDP4b_UHw",
        "colab_type": "text"
      },
      "source": [
        " Python Program to reverse a number using loop"
      ]
    },
    {
      "cell_type": "code",
      "metadata": {
        "id": "0XgtXwW6_Zrp",
        "colab_type": "code",
        "colab": {
          "base_uri": "https://localhost:8080/",
          "height": 68
        },
        "outputId": "3c5eb19a-258f-410a-9620-af76a41b4d7c"
      },
      "source": [
        " \n",
        "r=0\n",
        "n=int(input(\"Enter a number: \"))\n",
        "while(n>0):\n",
        "    dig=n%10\n",
        "    r=r*10+dig\n",
        "    n=n//10\n",
        "print(\"The reversed no  is:\")\n",
        "print(r)"
      ],
      "execution_count": 2,
      "outputs": [
        {
          "output_type": "stream",
          "text": [
            "Enter a number: 56\n",
            "The reversed no  is:\n",
            "65\n"
          ],
          "name": "stdout"
        }
      ]
    },
    {
      "cell_type": "markdown",
      "metadata": {
        "id": "o3iIUYsG_lI9",
        "colab_type": "text"
      },
      "source": [
        " Write a Python program to construct the following pattern, using a nested for loop."
      ]
    },
    {
      "cell_type": "code",
      "metadata": {
        "id": "kAG_2dzM_oY1",
        "colab_type": "code",
        "colab": {
          "base_uri": "https://localhost:8080/",
          "height": 187
        },
        "outputId": "08d9d098-161d-4a96-dda8-77c9a06eca51"
      },
      "source": [
        " \n",
        "n=5;\n",
        "for i in range(n):\n",
        "    for j in range(i):\n",
        "        print ('* ', end=\"\")\n",
        "    print('')\n",
        " \n",
        "for i in range(n,0,-1):\n",
        "    for j in range(i):\n",
        "        print('* ', end=\"\")\n",
        "    print('')"
      ],
      "execution_count": 3,
      "outputs": [
        {
          "output_type": "stream",
          "text": [
            "\n",
            "* \n",
            "* * \n",
            "* * * \n",
            "* * * * \n",
            "* * * * * \n",
            "* * * * \n",
            "* * * \n",
            "* * \n",
            "* \n"
          ],
          "name": "stdout"
        }
      ]
    },
    {
      "cell_type": "markdown",
      "metadata": {
        "id": "ncl0ulkv_zjs",
        "colab_type": "text"
      },
      "source": [
        " #Python Program to replace all occurrences of ‘a’ with ‘$’ in a string."
      ]
    },
    {
      "cell_type": "code",
      "metadata": {
        "id": "ugc616Zj_06V",
        "colab_type": "code",
        "colab": {
          "base_uri": "https://localhost:8080/",
          "height": 68
        },
        "outputId": "bf32cb5e-eb97-43f7-f295-11bd022b9555"
      },
      "source": [
        " \n",
        "string=input(\"Enter string:\")\n",
        "string=string.replace('a','$')\n",
        "string=string.replace('A','$')\n",
        "print(\"Modified string:\")\n",
        "print(string)"
      ],
      "execution_count": 4,
      "outputs": [
        {
          "output_type": "stream",
          "text": [
            "Enter string:Naqwer\n",
            "Modified string:\n",
            "N$qwer\n"
          ],
          "name": "stdout"
        }
      ]
    },
    {
      "cell_type": "markdown",
      "metadata": {
        "id": "4wrAei_x_8w2",
        "colab_type": "text"
      },
      "source": [
        " #Python Program to remove the nth index character from a non-empty string."
      ]
    },
    {
      "cell_type": "code",
      "metadata": {
        "id": "ObDJiTBRACZW",
        "colab_type": "code",
        "colab": {
          "base_uri": "https://localhost:8080/",
          "height": 105
        },
        "outputId": "ae1d83d9-0841-4880-ec34-a9f722d0ea79"
      },
      "source": [
        " \n",
        "def remove(string, n):  \n",
        "      first = string[:n]   \n",
        "      last = string[n+1:]  \n",
        "      return first + last\n",
        "string=input(\"Enter the sring:\")\n",
        "n=int(input(\"Enter the index of the character to remove:\"))\n",
        "print(\"Modified string:\")\n",
        "print(remove(string, n))"
      ],
      "execution_count": 5,
      "outputs": [
        {
          "output_type": "stream",
          "text": [
            "Enter the sring:The dog is on road\n",
            "Enter the index of the character to remove:9\n",
            "Modified string:\n",
            "The dog i on road\n"
          ],
          "name": "stdout"
        }
      ]
    },
    {
      "cell_type": "markdown",
      "metadata": {
        "id": "r_Y1u0SCAQSC",
        "colab_type": "text"
      },
      "source": [
        " Python Program to detect if two strings are anagrams."
      ]
    },
    {
      "cell_type": "code",
      "metadata": {
        "id": "COuyQI1yAUDG",
        "colab_type": "code",
        "colab": {
          "base_uri": "https://localhost:8080/",
          "height": 68
        },
        "outputId": "993377a8-cd23-4a79-fb39-1a7686083fed"
      },
      "source": [
        " \n",
        "s1=input(\"Enter first string:\")\n",
        "s2=input(\"Enter second string:\")\n",
        "if(sorted(s1)==sorted(s2)):\n",
        "      print(\"The strings are anagrams.\")\n",
        "else:\n",
        "      print(\"The strings aren't anagrams.\")"
      ],
      "execution_count": 10,
      "outputs": [
        {
          "output_type": "stream",
          "text": [
            "Enter first string:Naik\n",
            "Enter second string:oank\n",
            "The strings aren't anagrams.\n"
          ],
          "name": "stdout"
        }
      ]
    },
    {
      "cell_type": "markdown",
      "metadata": {
        "id": "bfmjLrrmAymB",
        "colab_type": "text"
      },
      "source": [
        " Python Program to  count number of vowels from a non-empty string."
      ]
    },
    {
      "cell_type": "code",
      "metadata": {
        "id": "OvY1guuFBC-Q",
        "colab_type": "code",
        "colab": {
          "base_uri": "https://localhost:8080/",
          "height": 68
        },
        "outputId": "76ad5179-6499-4e86-dfc4-5d06801daac5"
      },
      "source": [
        " \n",
        "string=input(\"Enter string:\")\n",
        "vowels=0\n",
        "for i in string:\n",
        "      if(i=='a' or i=='e' or i=='i' or i=='o' or i=='u' or i=='A' or i=='E' or i=='I' or i=='O' or i=='U'):\n",
        "            vowels=vowels+1\n",
        "print(\"Number of vowels are:\")\n",
        "print(vowels)"
      ],
      "execution_count": 11,
      "outputs": [
        {
          "output_type": "stream",
          "text": [
            "Enter string:Naqweerui\n",
            "Number of vowels are:\n",
            "5\n"
          ],
          "name": "stdout"
        }
      ]
    },
    {
      "cell_type": "markdown",
      "metadata": {
        "id": "s6ZdKafOBLcf",
        "colab_type": "text"
      },
      "source": [
        " #Program for Divide by zero error detection"
      ]
    },
    {
      "cell_type": "code",
      "metadata": {
        "id": "DdMSqtOqBRkv",
        "colab_type": "code",
        "colab": {
          "base_uri": "https://localhost:8080/",
          "height": 122
        },
        "outputId": "894dfd21-f3c3-4a13-df48-976fc96d13c1"
      },
      "source": [
        " \n",
        "flag = True\n",
        " \n",
        "def div(a, b):  \n",
        "       try:\n",
        "            print(\"Finally the division of %d/%d is %f\" % (a, b,a/b))\n",
        "            global flag\n",
        "            flag=False\n",
        "       except ZeroDivisionError:\n",
        "            print(\"Zero Division Error detected\")\n",
        "       else:\n",
        "            print(\"Division is successful\") \n",
        "       finally:\n",
        "            if flag is True:\n",
        "               print(\"Try again\")     \n",
        "            else:\n",
        "               print(\"Thank you\")\n",
        "       \n",
        "#global flag\n",
        " \n",
        "while flag is True:\n",
        "    div(int(input(\"Enter numerator\")),int(input(\"Enter denominator\")))"
      ],
      "execution_count": 12,
      "outputs": [
        {
          "output_type": "stream",
          "text": [
            "Enter numerator56\n",
            "Enter denominator78\n",
            "Finally the division of 56/78 is 0.717949\n",
            "Division is successful\n",
            "Thank you\n"
          ],
          "name": "stdout"
        }
      ]
    },
    {
      "cell_type": "markdown",
      "metadata": {
        "id": "lozDnQPUBknC",
        "colab_type": "text"
      },
      "source": [
        "#Program for ValueError error detection"
      ]
    },
    {
      "cell_type": "code",
      "metadata": {
        "id": "kiQwaDagBnXc",
        "colab_type": "code",
        "colab": {
          "base_uri": "https://localhost:8080/",
          "height": 173
        },
        "outputId": "834820b8-1fde-4cb4-a9c3-760fee0513fd"
      },
      "source": [
        " \n",
        "while True:\n",
        "     try:\n",
        "         x = int(input(\"Please enter a number: \"))\n",
        "         print(\" That was valid number. Thank you\")\n",
        "         break\n",
        "     except ValueError:\n",
        "         print(\"Oops!  That was no valid number.  Try again...\")"
      ],
      "execution_count": 14,
      "outputs": [
        {
          "output_type": "stream",
          "text": [
            "Please enter a number: Ok\n",
            "Oops!  That was no valid number.  Try again...\n",
            "Please enter a number: Er\n",
            "Oops!  That was no valid number.  Try again...\n",
            "Please enter a number: 4k\n",
            "Oops!  That was no valid number.  Try again...\n",
            "Please enter a number: 34\n",
            " That was valid number. Thank you\n"
          ],
          "name": "stdout"
        }
      ]
    },
    {
      "cell_type": "markdown",
      "metadata": {
        "id": "0cFlQ6t8B8Fx",
        "colab_type": "text"
      },
      "source": [
        " \n",
        "#Program for writing, reading and appending in a file"
      ]
    },
    {
      "cell_type": "code",
      "metadata": {
        "id": "Q_KqDMvaB8_g",
        "colab_type": "code",
        "colab": {
          "base_uri": "https://localhost:8080/",
          "height": 88
        },
        "outputId": "4af79c42-f6e6-489d-9920-8395b903e333"
      },
      "source": [
        " \n",
        "fo = open(\"foo.txt\", \"w\")\n",
        "print (\"Name of the file: \", fo.name)\n",
        "fo.write(\"Python is a great language!\")\n",
        "# Close opend file\n",
        "fo.close()\n",
        " \n",
        "fo = open(\"foo.txt\", \"r\")\n",
        "str1=fo.readline()\n",
        "print (\"Read String is :\",str1)\n",
        " \n",
        "fo = open(\"foo.txt\", \"a\")\n",
        "fo.write(\"Python is a short and sharp language!\")\n",
        "# Close opend file\n",
        "fo.close()\n",
        " \n",
        "fo = open(\"foo.txt\", \"r\")\n",
        "str1=fo.readline()\n",
        "print (\"Read String is :\",str1)\n",
        " \n",
        "# Close opend file\n",
        "fo.close()"
      ],
      "execution_count": 15,
      "outputs": [
        {
          "output_type": "stream",
          "text": [
            "Name of the file:  foo.txt\n",
            "Read String is : Python is a great language!\n",
            "Read String is : Python is a great language!Python is a short and sharp language!\n"
          ],
          "name": "stdout"
        }
      ]
    }
  ]
}